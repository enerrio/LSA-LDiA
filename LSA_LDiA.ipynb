{
 "cells": [
  {
   "cell_type": "markdown",
   "metadata": {},
   "source": [
    "# Latent Semantic Analysis & Latent Dirichlet Allocation\n",
    "---\n",
    "Perform Latent Semantic Analysis (AKA latent semantic indexing) & Latent Dirichlet Allocation (LDiA) on a spam dataset and compare results.\n",
    "\n",
    "> You shall know a word by the company it keeps\n",
    "> \n",
    "> \\- J.R. Firth"
   ]
  },
  {
   "cell_type": "code",
   "execution_count": 71,
   "metadata": {},
   "outputs": [
    {
     "name": "stdout",
     "output_type": "stream",
     "text": [
      "Pandas version: 0.22.0\n",
      "Numpy version: 1.12.1\n",
      "Seaborn version: 0.8.1\n"
     ]
    }
   ],
   "source": [
    "import numpy as np\n",
    "import pandas as pd\n",
    "import matplotlib.pyplot as plt\n",
    "import seaborn as sns\n",
    "from sklearn.feature_extraction.text import TfidfVectorizer, CountVectorizer\n",
    "from nltk.tokenize.casual import casual_tokenize\n",
    "from sklearn.decomposition import PCA\n",
    "from sklearn.decomposition import LatentDirichletAllocation as LDiA\n",
    "from sklearn.model_selection import train_test_split\n",
    "from sklearn.discriminant_analysis import LinearDiscriminantAnalysis as LDA\n",
    "%matplotlib inline\n",
    "\n",
    "print('Pandas version:', pd.__version__)\n",
    "print('Numpy version:', np.__version__)\n",
    "print('Seaborn version:', sns.__version__)"
   ]
  },
  {
   "cell_type": "markdown",
   "metadata": {},
   "source": [
    "## Load Data"
   ]
  },
  {
   "cell_type": "code",
   "execution_count": 2,
   "metadata": {},
   "outputs": [
    {
     "name": "stdout",
     "output_type": "stream",
     "text": [
      "Data shape: (4837, 2)\n",
      "Number of spam emails: 638\n",
      "13.19% of emails are spam\n"
     ]
    },
    {
     "data": {
      "text/html": [
       "<div>\n",
       "<style scoped>\n",
       "    .dataframe tbody tr th:only-of-type {\n",
       "        vertical-align: middle;\n",
       "    }\n",
       "\n",
       "    .dataframe tbody tr th {\n",
       "        vertical-align: top;\n",
       "    }\n",
       "\n",
       "    .dataframe thead th {\n",
       "        text-align: right;\n",
       "    }\n",
       "</style>\n",
       "<table border=\"1\" class=\"dataframe\">\n",
       "  <thead>\n",
       "    <tr style=\"text-align: right;\">\n",
       "      <th></th>\n",
       "      <th>spam</th>\n",
       "      <th>text</th>\n",
       "    </tr>\n",
       "  </thead>\n",
       "  <tbody>\n",
       "    <tr>\n",
       "      <th>0</th>\n",
       "      <td>0</td>\n",
       "      <td>Go until jurong point, crazy.. Available only ...</td>\n",
       "    </tr>\n",
       "    <tr>\n",
       "      <th>1</th>\n",
       "      <td>0</td>\n",
       "      <td>Ok lar... Joking wif u oni...</td>\n",
       "    </tr>\n",
       "    <tr>\n",
       "      <th>2</th>\n",
       "      <td>1</td>\n",
       "      <td>Free entry in 2 a wkly comp to win FA Cup fina...</td>\n",
       "    </tr>\n",
       "    <tr>\n",
       "      <th>3</th>\n",
       "      <td>0</td>\n",
       "      <td>U dun say so early hor... U c already then say...</td>\n",
       "    </tr>\n",
       "    <tr>\n",
       "      <th>4</th>\n",
       "      <td>0</td>\n",
       "      <td>Nah I don't think he goes to usf, he lives aro...</td>\n",
       "    </tr>\n",
       "  </tbody>\n",
       "</table>\n",
       "</div>"
      ],
      "text/plain": [
       "   spam                                               text\n",
       "0     0  Go until jurong point, crazy.. Available only ...\n",
       "1     0                      Ok lar... Joking wif u oni...\n",
       "2     1  Free entry in 2 a wkly comp to win FA Cup fina...\n",
       "3     0  U dun say so early hor... U c already then say...\n",
       "4     0  Nah I don't think he goes to usf, he lives aro..."
      ]
     },
     "execution_count": 2,
     "metadata": {},
     "output_type": "execute_result"
    }
   ],
   "source": [
    "# Load data\n",
    "sms = pd.read_csv('sms-spam.csv', index_col=0)\n",
    "\n",
    "print(\"Data shape:\", sms.shape)\n",
    "print('Number of spam emails:', sms['spam'].sum())\n",
    "print('{:.2f}% of emails are spam'.format(100. * (sms['spam'].sum() / len(sms))))\n",
    "\n",
    "sms.head()"
   ]
  },
  {
   "cell_type": "code",
   "execution_count": 3,
   "metadata": {},
   "outputs": [
    {
     "name": "stdout",
     "output_type": "stream",
     "text": [
      "Spam  0 : Shall i get my pouch?\n",
      "Spam  0 : Also maaaan are you missing out\n",
      "Spam  1 : Jamster! To get your free wallpaper text HEART to 88888 now! T&C apply. 16 only. Need Help? Call 08701213186.\n",
      "Spam  0 : I would but I'm still cozy. And exhausted from last night.nobody went to school or work. Everything is closed.\n",
      "Spam  0 : I'm eatin now lor, but goin back to work soon... E mountain deer show huh... I watch b4 liao, very nice...\n"
     ]
    }
   ],
   "source": [
    "# Print some sample text\n",
    "for idx, sample in sms.sample(5).iterrows():\n",
    "    print(\"Spam \", sample['spam'], \":\", sample['text'])"
   ]
  },
  {
   "cell_type": "code",
   "execution_count": 4,
   "metadata": {},
   "outputs": [
    {
     "data": {
      "image/png": "[encoded data removed]",
      "text/plain": [
       "<matplotlib.figure.Figure at 0x10f9579e8>"
      ]
     },
     "metadata": {},
     "output_type": "display_data"
    }
   ],
   "source": [
    "# Plot class distribution\n",
    "sns.barplot(x=['not spam', 'spam'], y=[len(sms) - sms['spam'].sum(), sms['spam'].sum()])\n",
    "plt.show()"
   ]
  },
  {
   "cell_type": "markdown",
   "metadata": {},
   "source": [
    "## Vectorize Text\n",
    "---\n",
    "Use TfidfVectorizer to create bag of words (occurance counts) and then reweight counts with inverse document frequency values."
   ]
  },
  {
   "cell_type": "code",
   "execution_count": 5,
   "metadata": {},
   "outputs": [
    {
     "name": "stdout",
     "output_type": "stream",
     "text": [
      "<class 'numpy.ndarray'>\n",
      "(4837, 9232)\n"
     ]
    }
   ],
   "source": [
    "tfidf = TfidfVectorizer(tokenizer=casual_tokenize)\n",
    "tfidf_docs = tfidf.fit_transform(raw_documents=sms['text']).toarray()\n",
    "\n",
    "print(type(tfidf_docs))\n",
    "print(tfidf_docs.shape)"
   ]
  },
  {
   "cell_type": "markdown",
   "metadata": {},
   "source": [
    "Size of our vocabulary is 9,232 words or tokens. Now we have a **term-document matrix** (AKA **context matrix**). Each row is a document and each column is a term in our vocabulary."
   ]
  },
  {
   "cell_type": "markdown",
   "metadata": {},
   "source": [
    "## Perform LSA\n",
    "---\n",
    "Use sci-kit learn's PCA (principal component analysis) to perform latent semantic analysis. PCA uses singular value decomposition (SVD) to project high dimensional data onto a lower dimensional space. SVD produces 3 matrices (U, S, V) that multiplied together, give the original input matrix. SVD groups terms that have a high correlation and we can think of them as \"topic\" vectors.\n",
    "\n",
    "* U: Left singular vectors\n",
    "* S: Principal components (topics)\n",
    "* V: Right singular vectors\n",
    "\n",
    "The middle matrix is a diagonal matrix of singular values (AKA eigenvalues) and is the variance of each topic. In non-NLP problems it's known as the principal components of the input data. By keeping the principal components with high values we keep the dimensions that \"explain\" the original data. In NLP-speak this means that principal components with high values are our topics which are used a lot throughout our original corpus.\n",
    "\n",
    "By truncating the size of SVD's output matrices, we can reduce the dimensionality. PCA does this for us when we set `n_components` as the number of topics we want (i.e. our new dimensionality)."
   ]
  },
  {
   "cell_type": "code",
   "execution_count": 6,
   "metadata": {},
   "outputs": [
    {
     "name": "stdout",
     "output_type": "stream",
     "text": [
      "Number of topics: 16\n",
      "Shape of topic_vectors: (4837, 16)\n"
     ]
    }
   ],
   "source": [
    "# Use PCA to reduce dimensions\n",
    "num_topics = 16\n",
    "pca = PCA(n_components=num_topics)\n",
    "pca = pca.fit(tfidf_docs)\n",
    "topic_vectors = pca.transform(tfidf_docs)\n",
    "\n",
    "print('Number of topics:', num_topics)\n",
    "print('Shape of topic_vectors:', topic_vectors.shape)"
   ]
  },
  {
   "cell_type": "code",
   "execution_count": 32,
   "metadata": {},
   "outputs": [
    {
     "data": {
      "image/png": "[encoded data removed]",
      "text/plain": [
       "<matplotlib.figure.Figure at 0x1100521d0>"
      ]
     },
     "metadata": {},
     "output_type": "display_data"
    }
   ],
   "source": [
    "# Plot explained variance for each topic\n",
    "sns.barplot(x=[i for i in range(1, pca.n_components_+1)], y=pca.explained_variance_ratio_)\n",
    "plt.xlabel('Topics')\n",
    "plt.ylabel('Percentage of variance explained')\n",
    "plt.title('Explained Variance Ratio')\n",
    "plt.show()"
   ]
  },
  {
   "cell_type": "markdown",
   "metadata": {},
   "source": [
    "## Cosine Similarity\n",
    "---\n",
    "Here we can use the cosine similarity metric to measure the simliarity between two topic vectors. In this case we take the first 10 documents and compare their topic vectors against itself and the other 9 topic vectors. The cosine similarity is defined as:\n",
    "\n",
    "K = **A** dot **B** / norm(A) \\* norm(B)\n",
    "\n",
    "When compared against itself, the similarity score should be 1 which indicates identical normalized vectors that point in the same direction along all dimensions. A similarity score closer to 1 means the two documents are similar to each other. A score of 0 means the two vectors are orthogonal to each other in all dimensions and are using different terms. A score closer to -1 means that are \"opposite\" of each other."
   ]
  },
  {
   "cell_type": "code",
   "execution_count": 7,
   "metadata": {
    "scrolled": true
   },
   "outputs": [
    {
     "data": {
      "text/html": [
       "<div>\n",
       "<style scoped>\n",
       "    .dataframe tbody tr th:only-of-type {\n",
       "        vertical-align: middle;\n",
       "    }\n",
       "\n",
       "    .dataframe tbody tr th {\n",
       "        vertical-align: top;\n",
       "    }\n",
       "\n",
       "    .dataframe thead th {\n",
       "        text-align: right;\n",
       "    }\n",
       "</style>\n",
       "<table border=\"1\" class=\"dataframe\">\n",
       "  <thead>\n",
       "    <tr style=\"text-align: right;\">\n",
       "      <th></th>\n",
       "      <th>not spam</th>\n",
       "      <th>not spam</th>\n",
       "      <th>spam</th>\n",
       "      <th>not spam</th>\n",
       "      <th>not spam</th>\n",
       "      <th>spam</th>\n",
       "      <th>not spam</th>\n",
       "      <th>not spam</th>\n",
       "      <th>spam</th>\n",
       "      <th>spam</th>\n",
       "    </tr>\n",
       "  </thead>\n",
       "  <tbody>\n",
       "    <tr>\n",
       "      <th>not spam</th>\n",
       "      <td>1.0</td>\n",
       "      <td>0.6</td>\n",
       "      <td>-0.1</td>\n",
       "      <td>0.7</td>\n",
       "      <td>0.0</td>\n",
       "      <td>-0.3</td>\n",
       "      <td>-0.2</td>\n",
       "      <td>-0.2</td>\n",
       "      <td>-0.3</td>\n",
       "      <td>-0.3</td>\n",
       "    </tr>\n",
       "    <tr>\n",
       "      <th>not spam</th>\n",
       "      <td>0.6</td>\n",
       "      <td>1.0</td>\n",
       "      <td>-0.1</td>\n",
       "      <td>0.8</td>\n",
       "      <td>-0.2</td>\n",
       "      <td>0.0</td>\n",
       "      <td>-0.2</td>\n",
       "      <td>-0.2</td>\n",
       "      <td>-0.2</td>\n",
       "      <td>-0.1</td>\n",
       "    </tr>\n",
       "    <tr>\n",
       "      <th>spam</th>\n",
       "      <td>-0.1</td>\n",
       "      <td>-0.1</td>\n",
       "      <td>1.0</td>\n",
       "      <td>-0.1</td>\n",
       "      <td>0.2</td>\n",
       "      <td>0.4</td>\n",
       "      <td>0.1</td>\n",
       "      <td>0.3</td>\n",
       "      <td>0.5</td>\n",
       "      <td>0.4</td>\n",
       "    </tr>\n",
       "    <tr>\n",
       "      <th>not spam</th>\n",
       "      <td>0.7</td>\n",
       "      <td>0.8</td>\n",
       "      <td>-0.1</td>\n",
       "      <td>1.0</td>\n",
       "      <td>-0.2</td>\n",
       "      <td>-0.3</td>\n",
       "      <td>-0.1</td>\n",
       "      <td>-0.3</td>\n",
       "      <td>-0.2</td>\n",
       "      <td>-0.1</td>\n",
       "    </tr>\n",
       "    <tr>\n",
       "      <th>not spam</th>\n",
       "      <td>0.0</td>\n",
       "      <td>-0.2</td>\n",
       "      <td>0.2</td>\n",
       "      <td>-0.2</td>\n",
       "      <td>1.0</td>\n",
       "      <td>0.2</td>\n",
       "      <td>-0.1</td>\n",
       "      <td>0.1</td>\n",
       "      <td>-0.3</td>\n",
       "      <td>-0.2</td>\n",
       "    </tr>\n",
       "    <tr>\n",
       "      <th>spam</th>\n",
       "      <td>-0.3</td>\n",
       "      <td>0.0</td>\n",
       "      <td>0.4</td>\n",
       "      <td>-0.3</td>\n",
       "      <td>0.2</td>\n",
       "      <td>1.0</td>\n",
       "      <td>-0.2</td>\n",
       "      <td>0.1</td>\n",
       "      <td>0.3</td>\n",
       "      <td>0.4</td>\n",
       "    </tr>\n",
       "    <tr>\n",
       "      <th>not spam</th>\n",
       "      <td>-0.2</td>\n",
       "      <td>-0.2</td>\n",
       "      <td>0.1</td>\n",
       "      <td>-0.1</td>\n",
       "      <td>-0.1</td>\n",
       "      <td>-0.2</td>\n",
       "      <td>1.0</td>\n",
       "      <td>0.2</td>\n",
       "      <td>-0.2</td>\n",
       "      <td>-0.1</td>\n",
       "    </tr>\n",
       "    <tr>\n",
       "      <th>not spam</th>\n",
       "      <td>-0.2</td>\n",
       "      <td>-0.2</td>\n",
       "      <td>0.3</td>\n",
       "      <td>-0.3</td>\n",
       "      <td>0.1</td>\n",
       "      <td>0.1</td>\n",
       "      <td>0.2</td>\n",
       "      <td>1.0</td>\n",
       "      <td>0.1</td>\n",
       "      <td>0.5</td>\n",
       "    </tr>\n",
       "    <tr>\n",
       "      <th>spam</th>\n",
       "      <td>-0.3</td>\n",
       "      <td>-0.2</td>\n",
       "      <td>0.5</td>\n",
       "      <td>-0.2</td>\n",
       "      <td>-0.3</td>\n",
       "      <td>0.3</td>\n",
       "      <td>-0.2</td>\n",
       "      <td>0.1</td>\n",
       "      <td>1.0</td>\n",
       "      <td>0.3</td>\n",
       "    </tr>\n",
       "    <tr>\n",
       "      <th>spam</th>\n",
       "      <td>-0.3</td>\n",
       "      <td>-0.1</td>\n",
       "      <td>0.4</td>\n",
       "      <td>-0.1</td>\n",
       "      <td>-0.2</td>\n",
       "      <td>0.4</td>\n",
       "      <td>-0.1</td>\n",
       "      <td>0.5</td>\n",
       "      <td>0.3</td>\n",
       "      <td>1.0</td>\n",
       "    </tr>\n",
       "  </tbody>\n",
       "</table>\n",
       "</div>"
      ],
      "text/plain": [
       "          not spam  not spam  spam  not spam  not spam  spam  not spam  \\\n",
       "not spam       1.0       0.6  -0.1       0.7       0.0  -0.3      -0.2   \n",
       "not spam       0.6       1.0  -0.1       0.8      -0.2   0.0      -0.2   \n",
       "spam          -0.1      -0.1   1.0      -0.1       0.2   0.4       0.1   \n",
       "not spam       0.7       0.8  -0.1       1.0      -0.2  -0.3      -0.1   \n",
       "not spam       0.0      -0.2   0.2      -0.2       1.0   0.2      -0.1   \n",
       "spam          -0.3       0.0   0.4      -0.3       0.2   1.0      -0.2   \n",
       "not spam      -0.2      -0.2   0.1      -0.1      -0.1  -0.2       1.0   \n",
       "not spam      -0.2      -0.2   0.3      -0.3       0.1   0.1       0.2   \n",
       "spam          -0.3      -0.2   0.5      -0.2      -0.3   0.3      -0.2   \n",
       "spam          -0.3      -0.1   0.4      -0.1      -0.2   0.4      -0.1   \n",
       "\n",
       "          not spam  spam  spam  \n",
       "not spam      -0.2  -0.3  -0.3  \n",
       "not spam      -0.2  -0.2  -0.1  \n",
       "spam           0.3   0.5   0.4  \n",
       "not spam      -0.3  -0.2  -0.1  \n",
       "not spam       0.1  -0.3  -0.2  \n",
       "spam           0.1   0.3   0.4  \n",
       "not spam       0.2  -0.2  -0.1  \n",
       "not spam       1.0   0.1   0.5  \n",
       "spam           0.1   1.0   0.3  \n",
       "spam           0.5   0.3   1.0  "
      ]
     },
     "execution_count": 7,
     "metadata": {},
     "output_type": "execute_result"
    }
   ],
   "source": [
    "from sklearn.metrics.pairwise import cosine_similarity\n",
    "\n",
    "index = ['spam' if x == 1 else 'not spam' for x in sms['spam'].iloc[:10]]\n",
    "similar_df = pd.DataFrame(cosine_similarity(topic_vectors[:10], topic_vectors[:10]).round(1), index=index, columns=index)\n",
    "similar_df\n",
    "\n",
    "# Exactly the same as above\n",
    "# topic_vectors = (topic_vectors.T / np.linalg.norm(topic_vectors, axis=1)).T\n",
    "# topic_vectors[:10].dot(topic_vectors[:10].T).round(1)"
   ]
  },
  {
   "cell_type": "markdown",
   "metadata": {},
   "source": [
    "In the first row we can see that the cosine similarity for the first element is 1 because it is being compared against itself. It also gets high similarity scores for other \"not spam\" vectors (with some exceptions). We are able to show using cosine similarity that \"not spam\" vectors are similar to other \"not spam\" vectors and vice versa for \"spam\" vectors."
   ]
  },
  {
   "cell_type": "markdown",
   "metadata": {},
   "source": [
    "## Building & Evaluating a Classifier\n",
    "---\n",
    "Now we will use a linear discriminant analysis (LDA) classifier to try and classify our text samples as spam or ham."
   ]
  },
  {
   "cell_type": "code",
   "execution_count": 8,
   "metadata": {},
   "outputs": [
    {
     "name": "stdout",
     "output_type": "stream",
     "text": [
      "X_train shape: (3385, 16)\n",
      "X_test shape: (1452, 16)\n",
      "y_train shape: (3385,)\n",
      "y_test shape: (1452,)\n"
     ]
    }
   ],
   "source": [
    "# Split data\n",
    "X_train, X_test, y_train, y_test = train_test_split(topic_vectors, sms['spam'], test_size=0.3, random_state=21)\n",
    "\n",
    "print('X_train shape:', X_train.shape)\n",
    "print('X_test shape:', X_test.shape)\n",
    "print('y_train shape:', y_train.shape)\n",
    "print('y_test shape:', y_test.shape)"
   ]
  },
  {
   "cell_type": "code",
   "execution_count": 9,
   "metadata": {},
   "outputs": [
    {
     "data": {
      "text/plain": [
       "LinearDiscriminantAnalysis(n_components=None, priors=None, shrinkage=None,\n",
       "              solver='svd', store_covariance=False, tol=0.0001)"
      ]
     },
     "execution_count": 9,
     "metadata": {},
     "output_type": "execute_result"
    }
   ],
   "source": [
    "# Create LDA model and fit to training data\n",
    "clf = LDA()\n",
    "clf.fit(X_train, y_train)"
   ]
  },
  {
   "cell_type": "code",
   "execution_count": 10,
   "metadata": {},
   "outputs": [
    {
     "name": "stdout",
     "output_type": "stream",
     "text": [
      "Test accuracy: 96.07%\n"
     ]
    }
   ],
   "source": [
    "score = clf.score(X_test, y_test)\n",
    "\n",
    "print(\"Test accuracy: {:.2f}%\".format(100. * score))"
   ]
  },
  {
   "cell_type": "markdown",
   "metadata": {},
   "source": [
    "## Test Custom Emails\n",
    "---\n",
    "Let's create dummy emails and see if it can correctly classify them"
   ]
  },
  {
   "cell_type": "code",
   "execution_count": 129,
   "metadata": {},
   "outputs": [
    {
     "name": "stdout",
     "output_type": "stream",
     "text": [
      "   true  preds                                              email\n",
      "0     0      0  Hi John, this is Juan. Just wanted to let you ...\n",
      "1     1      0  Earn $1000 a day. Work from home and make mone...\n",
      "2     1      1  Earn £1000 a day. Work from home and make mone...\n",
      "3     0      0  I'm going to be late, please order dinner toni...\n",
      "4     1      1  Free money!! Join our network of professionls ...\n"
     ]
    }
   ],
   "source": [
    "emails = [\"Hi John, this is Juan. Just wanted to let you know our meeting was rescheduled for next week. Will let you know more later. - Juan\",\n",
    "         \"Earn $1000 a day. Work from home and make money with me. Reply to make money now!\",\n",
    "         \"Earn £1000 a day. Work from home and make money with me. Reply to make money now!\",\n",
    "         \"I'm going to be late, please order dinner tonight for everyone.\",\n",
    "         \"Free money!! Join our network of professionls and get rewarded!\"]\n",
    "true_labels = [0, 1, 1, 0, 1]\n",
    "\n",
    "emails_tfidf = tfidf.transform(emails).toarray()\n",
    "emails_topic = pca.transform(emails_tfidf)\n",
    "preds = clf.predict(emails_topic)\n",
    "test_df = pd.DataFrame()\n",
    "test_df['true'] = true_labels\n",
    "test_df['preds'] = preds\n",
    "test_df['email'] = emails\n",
    "print(test_df)"
   ]
  },
  {
   "cell_type": "markdown",
   "metadata": {},
   "source": [
    "The first email was correctly classified as \"not spam\" but the next 2 samples are supposed to be marked as \"spam.\" The second and third emails are exactly the same with one difference: the dollar sign is replaced with a pound sign. As a result, the second email is incorrectly classified as \"not spam\" and the third email is correctly classified as \"spam.\" This is a useful demonstration of the bias that exists in the dataset. The dataset we are using was collected from a UK forum about spam and non-spam emails and in the dataset there are email samples that, when referring to money, use the British pound sign. So it makes sense that our topic vectors do not understand the difference (and similarity) between the British pound and the American dollar."
   ]
  },
  {
   "cell_type": "markdown",
   "metadata": {},
   "source": [
    "## Latent Dirichlet Allocation (LDiA)\n",
    "---\n",
    "Now we will use Latent Dirichlet Allocation algorithm to classify text as either spam or not spam. The main difference between LSA and LDiA is that LDiA treats documents as a mix of topics. So one text sample can be 40% Topic A and 60% Topic B.\n",
    "\n",
    "LDiA also tends to work better with raw bag-of-words counts than normalized TF-IDF vectors, so we will use CountVectorizer to build vectors of term occurances."
   ]
  },
  {
   "cell_type": "code",
   "execution_count": 77,
   "metadata": {},
   "outputs": [
    {
     "data": {
      "text/html": [
       "<div>\n",
       "<style scoped>\n",
       "    .dataframe tbody tr th:only-of-type {\n",
       "        vertical-align: middle;\n",
       "    }\n",
       "\n",
       "    .dataframe tbody tr th {\n",
       "        vertical-align: top;\n",
       "    }\n",
       "\n",
       "    .dataframe thead th {\n",
       "        text-align: right;\n",
       "    }\n",
       "</style>\n",
       "<table border=\"1\" class=\"dataframe\">\n",
       "  <thead>\n",
       "    <tr style=\"text-align: right;\">\n",
       "      <th></th>\n",
       "      <th>!</th>\n",
       "      <th>\"</th>\n",
       "      <th>#</th>\n",
       "      <th>#150</th>\n",
       "      <th>#5000</th>\n",
       "      <th>$</th>\n",
       "      <th>%</th>\n",
       "      <th>&amp;</th>\n",
       "      <th>'</th>\n",
       "      <th>(</th>\n",
       "      <th>...</th>\n",
       "      <th>ü'll</th>\n",
       "      <th>–</th>\n",
       "      <th>—</th>\n",
       "      <th>‘</th>\n",
       "      <th>’</th>\n",
       "      <th>“</th>\n",
       "      <th>…</th>\n",
       "      <th>┾</th>\n",
       "      <th>〨ud</th>\n",
       "      <th>鈥</th>\n",
       "    </tr>\n",
       "  </thead>\n",
       "  <tbody>\n",
       "    <tr>\n",
       "      <th>0</th>\n",
       "      <td>0</td>\n",
       "      <td>0</td>\n",
       "      <td>0</td>\n",
       "      <td>0</td>\n",
       "      <td>0</td>\n",
       "      <td>0</td>\n",
       "      <td>0</td>\n",
       "      <td>0</td>\n",
       "      <td>0</td>\n",
       "      <td>0</td>\n",
       "      <td>...</td>\n",
       "      <td>0</td>\n",
       "      <td>0</td>\n",
       "      <td>0</td>\n",
       "      <td>0</td>\n",
       "      <td>0</td>\n",
       "      <td>0</td>\n",
       "      <td>0</td>\n",
       "      <td>0</td>\n",
       "      <td>0</td>\n",
       "      <td>0</td>\n",
       "    </tr>\n",
       "    <tr>\n",
       "      <th>1</th>\n",
       "      <td>0</td>\n",
       "      <td>0</td>\n",
       "      <td>0</td>\n",
       "      <td>0</td>\n",
       "      <td>0</td>\n",
       "      <td>0</td>\n",
       "      <td>0</td>\n",
       "      <td>0</td>\n",
       "      <td>0</td>\n",
       "      <td>0</td>\n",
       "      <td>...</td>\n",
       "      <td>0</td>\n",
       "      <td>0</td>\n",
       "      <td>0</td>\n",
       "      <td>0</td>\n",
       "      <td>0</td>\n",
       "      <td>0</td>\n",
       "      <td>0</td>\n",
       "      <td>0</td>\n",
       "      <td>0</td>\n",
       "      <td>0</td>\n",
       "    </tr>\n",
       "    <tr>\n",
       "      <th>2</th>\n",
       "      <td>0</td>\n",
       "      <td>0</td>\n",
       "      <td>0</td>\n",
       "      <td>0</td>\n",
       "      <td>0</td>\n",
       "      <td>0</td>\n",
       "      <td>0</td>\n",
       "      <td>1</td>\n",
       "      <td>1</td>\n",
       "      <td>1</td>\n",
       "      <td>...</td>\n",
       "      <td>0</td>\n",
       "      <td>0</td>\n",
       "      <td>0</td>\n",
       "      <td>0</td>\n",
       "      <td>0</td>\n",
       "      <td>0</td>\n",
       "      <td>0</td>\n",
       "      <td>0</td>\n",
       "      <td>0</td>\n",
       "      <td>0</td>\n",
       "    </tr>\n",
       "    <tr>\n",
       "      <th>3</th>\n",
       "      <td>0</td>\n",
       "      <td>0</td>\n",
       "      <td>0</td>\n",
       "      <td>0</td>\n",
       "      <td>0</td>\n",
       "      <td>0</td>\n",
       "      <td>0</td>\n",
       "      <td>0</td>\n",
       "      <td>0</td>\n",
       "      <td>0</td>\n",
       "      <td>...</td>\n",
       "      <td>0</td>\n",
       "      <td>0</td>\n",
       "      <td>0</td>\n",
       "      <td>0</td>\n",
       "      <td>0</td>\n",
       "      <td>0</td>\n",
       "      <td>0</td>\n",
       "      <td>0</td>\n",
       "      <td>0</td>\n",
       "      <td>0</td>\n",
       "    </tr>\n",
       "    <tr>\n",
       "      <th>4</th>\n",
       "      <td>0</td>\n",
       "      <td>0</td>\n",
       "      <td>0</td>\n",
       "      <td>0</td>\n",
       "      <td>0</td>\n",
       "      <td>0</td>\n",
       "      <td>0</td>\n",
       "      <td>0</td>\n",
       "      <td>0</td>\n",
       "      <td>0</td>\n",
       "      <td>...</td>\n",
       "      <td>0</td>\n",
       "      <td>0</td>\n",
       "      <td>0</td>\n",
       "      <td>0</td>\n",
       "      <td>0</td>\n",
       "      <td>0</td>\n",
       "      <td>0</td>\n",
       "      <td>0</td>\n",
       "      <td>0</td>\n",
       "      <td>0</td>\n",
       "    </tr>\n",
       "  </tbody>\n",
       "</table>\n",
       "<p>5 rows × 9232 columns</p>\n",
       "</div>"
      ],
      "text/plain": [
       "   !  \"  #  #150  #5000  $  %  &  '  ( ...  ü'll  –  —  ‘  ’  “  …  ┾  〨ud  鈥\n",
       "0  0  0  0     0      0  0  0  0  0  0 ...     0  0  0  0  0  0  0  0    0  0\n",
       "1  0  0  0     0      0  0  0  0  0  0 ...     0  0  0  0  0  0  0  0    0  0\n",
       "2  0  0  0     0      0  0  0  1  1  1 ...     0  0  0  0  0  0  0  0    0  0\n",
       "3  0  0  0     0      0  0  0  0  0  0 ...     0  0  0  0  0  0  0  0    0  0\n",
       "4  0  0  0     0      0  0  0  0  0  0 ...     0  0  0  0  0  0  0  0    0  0\n",
       "\n",
       "[5 rows x 9232 columns]"
      ]
     },
     "execution_count": 77,
     "metadata": {},
     "output_type": "execute_result"
    }
   ],
   "source": [
    "# Build bag-of-words\n",
    "counter = CountVectorizer(tokenizer=casual_tokenize)\n",
    "bow_docs = pd.DataFrame(counter.fit_transform(raw_documents=sms['text']).toarray())\n",
    "column_nums, terms = zip(*sorted(zip(counter.vocabulary_.values(), counter.vocabulary_.keys())))\n",
    "bow_docs.columns = terms\n",
    "bow_docs.head()"
   ]
  },
  {
   "cell_type": "code",
   "execution_count": 74,
   "metadata": {},
   "outputs": [
    {
     "name": "stdout",
     "output_type": "stream",
     "text": [
      "(16, 9232)\n"
     ]
    }
   ],
   "source": [
    "# Create LDiA\n",
    "ldia = LDiA(n_components=num_topics, learning_method='batch', random_state=21)\n",
    "ldia.fit(bow_docs)\n",
    "\n",
    "print(ldia.components_.shape)"
   ]
  },
  {
   "cell_type": "code",
   "execution_count": 76,
   "metadata": {},
   "outputs": [
    {
     "data": {
      "text/html": [
       "<div>\n",
       "<style scoped>\n",
       "    .dataframe tbody tr th:only-of-type {\n",
       "        vertical-align: middle;\n",
       "    }\n",
       "\n",
       "    .dataframe tbody tr th {\n",
       "        vertical-align: top;\n",
       "    }\n",
       "\n",
       "    .dataframe thead th {\n",
       "        text-align: right;\n",
       "    }\n",
       "</style>\n",
       "<table border=\"1\" class=\"dataframe\">\n",
       "  <thead>\n",
       "    <tr style=\"text-align: right;\">\n",
       "      <th></th>\n",
       "      <th>topic_1</th>\n",
       "      <th>topic_2</th>\n",
       "      <th>topic_3</th>\n",
       "      <th>topic_4</th>\n",
       "      <th>topic_5</th>\n",
       "      <th>topic_6</th>\n",
       "      <th>topic_7</th>\n",
       "      <th>topic_8</th>\n",
       "      <th>topic_9</th>\n",
       "      <th>topic_10</th>\n",
       "      <th>topic_11</th>\n",
       "      <th>topic_12</th>\n",
       "      <th>topic_13</th>\n",
       "      <th>topic_14</th>\n",
       "      <th>topic_15</th>\n",
       "      <th>topic_16</th>\n",
       "    </tr>\n",
       "  </thead>\n",
       "  <tbody>\n",
       "    <tr>\n",
       "      <th>!</th>\n",
       "      <td>80.13</td>\n",
       "      <td>40.41</td>\n",
       "      <td>127.48</td>\n",
       "      <td>77.28</td>\n",
       "      <td>74.18</td>\n",
       "      <td>0.06</td>\n",
       "      <td>30.47</td>\n",
       "      <td>261.62</td>\n",
       "      <td>4.87</td>\n",
       "      <td>32.44</td>\n",
       "      <td>0.06</td>\n",
       "      <td>88.51</td>\n",
       "      <td>209.78</td>\n",
       "      <td>11.14</td>\n",
       "      <td>6.17</td>\n",
       "      <td>344.39</td>\n",
       "    </tr>\n",
       "    <tr>\n",
       "      <th>\"</th>\n",
       "      <td>0.06</td>\n",
       "      <td>185.50</td>\n",
       "      <td>0.06</td>\n",
       "      <td>0.06</td>\n",
       "      <td>26.31</td>\n",
       "      <td>0.06</td>\n",
       "      <td>0.06</td>\n",
       "      <td>9.10</td>\n",
       "      <td>18.21</td>\n",
       "      <td>0.06</td>\n",
       "      <td>0.06</td>\n",
       "      <td>6.15</td>\n",
       "      <td>9.57</td>\n",
       "      <td>0.06</td>\n",
       "      <td>0.60</td>\n",
       "      <td>0.06</td>\n",
       "    </tr>\n",
       "    <tr>\n",
       "      <th>#</th>\n",
       "      <td>0.06</td>\n",
       "      <td>0.06</td>\n",
       "      <td>0.20</td>\n",
       "      <td>3.93</td>\n",
       "      <td>3.06</td>\n",
       "      <td>0.06</td>\n",
       "      <td>0.06</td>\n",
       "      <td>0.06</td>\n",
       "      <td>0.06</td>\n",
       "      <td>0.06</td>\n",
       "      <td>0.06</td>\n",
       "      <td>0.06</td>\n",
       "      <td>0.06</td>\n",
       "      <td>0.06</td>\n",
       "      <td>0.06</td>\n",
       "      <td>0.06</td>\n",
       "    </tr>\n",
       "    <tr>\n",
       "      <th>#150</th>\n",
       "      <td>0.06</td>\n",
       "      <td>0.06</td>\n",
       "      <td>0.06</td>\n",
       "      <td>0.06</td>\n",
       "      <td>0.06</td>\n",
       "      <td>0.06</td>\n",
       "      <td>0.06</td>\n",
       "      <td>0.06</td>\n",
       "      <td>0.06</td>\n",
       "      <td>0.06</td>\n",
       "      <td>0.06</td>\n",
       "      <td>0.06</td>\n",
       "      <td>1.06</td>\n",
       "      <td>0.06</td>\n",
       "      <td>0.06</td>\n",
       "      <td>0.06</td>\n",
       "    </tr>\n",
       "    <tr>\n",
       "      <th>#5000</th>\n",
       "      <td>0.06</td>\n",
       "      <td>0.06</td>\n",
       "      <td>0.06</td>\n",
       "      <td>0.06</td>\n",
       "      <td>0.06</td>\n",
       "      <td>0.06</td>\n",
       "      <td>0.06</td>\n",
       "      <td>0.06</td>\n",
       "      <td>0.06</td>\n",
       "      <td>0.06</td>\n",
       "      <td>0.06</td>\n",
       "      <td>0.06</td>\n",
       "      <td>3.06</td>\n",
       "      <td>0.06</td>\n",
       "      <td>0.06</td>\n",
       "      <td>0.06</td>\n",
       "    </tr>\n",
       "  </tbody>\n",
       "</table>\n",
       "</div>"
      ],
      "text/plain": [
       "       topic_1  topic_2  topic_3  topic_4  topic_5  topic_6  topic_7  topic_8  \\\n",
       "!        80.13    40.41   127.48    77.28    74.18     0.06    30.47   261.62   \n",
       "\"         0.06   185.50     0.06     0.06    26.31     0.06     0.06     9.10   \n",
       "#         0.06     0.06     0.20     3.93     3.06     0.06     0.06     0.06   \n",
       "#150      0.06     0.06     0.06     0.06     0.06     0.06     0.06     0.06   \n",
       "#5000     0.06     0.06     0.06     0.06     0.06     0.06     0.06     0.06   \n",
       "\n",
       "       topic_9  topic_10  topic_11  topic_12  topic_13  topic_14  topic_15  \\\n",
       "!         4.87     32.44      0.06     88.51    209.78     11.14      6.17   \n",
       "\"        18.21      0.06      0.06      6.15      9.57      0.06      0.60   \n",
       "#         0.06      0.06      0.06      0.06      0.06      0.06      0.06   \n",
       "#150      0.06      0.06      0.06      0.06      1.06      0.06      0.06   \n",
       "#5000     0.06      0.06      0.06      0.06      3.06      0.06      0.06   \n",
       "\n",
       "       topic_16  \n",
       "!        344.39  \n",
       "\"          0.06  \n",
       "#          0.06  \n",
       "#150       0.06  \n",
       "#5000      0.06  "
      ]
     },
     "execution_count": 76,
     "metadata": {},
     "output_type": "execute_result"
    }
   ],
   "source": [
    "# Look at first five terms and their contributions to each topic\n",
    "components = pd.DataFrame(ldia.components_.T, index=terms, columns=['topic_%d' % i for i in range(1, num_topics+1)])\n",
    "components.round(2).head()"
   ]
  },
  {
   "cell_type": "markdown",
   "metadata": {},
   "source": [
    "Now we can look at the top values for each topic and more easily identify what each topic is trying to define. Below we look at the top 10 values and their corresponding terms for each topic."
   ]
  },
  {
   "cell_type": "code",
   "execution_count": 123,
   "metadata": {},
   "outputs": [
    {
     "data": {
      "text/html": [
       "<div>\n",
       "<style scoped>\n",
       "    .dataframe tbody tr th:only-of-type {\n",
       "        vertical-align: middle;\n",
       "    }\n",
       "\n",
       "    .dataframe tbody tr th {\n",
       "        vertical-align: top;\n",
       "    }\n",
       "\n",
       "    .dataframe thead th {\n",
       "        text-align: right;\n",
       "    }\n",
       "</style>\n",
       "<table border=\"1\" class=\"dataframe\">\n",
       "  <thead>\n",
       "    <tr style=\"text-align: right;\">\n",
       "      <th></th>\n",
       "      <th>topic_1</th>\n",
       "      <th>terms_topic_1</th>\n",
       "      <th>topic_2</th>\n",
       "      <th>terms_topic_2</th>\n",
       "      <th>topic_3</th>\n",
       "      <th>terms_topic_3</th>\n",
       "      <th>topic_4</th>\n",
       "      <th>terms_topic_4</th>\n",
       "      <th>topic_5</th>\n",
       "      <th>terms_topic_5</th>\n",
       "      <th>...</th>\n",
       "      <th>topic_11</th>\n",
       "      <th>terms_topic_11</th>\n",
       "      <th>topic_12</th>\n",
       "      <th>terms_topic_12</th>\n",
       "      <th>topic_13</th>\n",
       "      <th>terms_topic_13</th>\n",
       "      <th>topic_14</th>\n",
       "      <th>terms_topic_14</th>\n",
       "      <th>topic_15</th>\n",
       "      <th>terms_topic_15</th>\n",
       "    </tr>\n",
       "  </thead>\n",
       "  <tbody>\n",
       "    <tr>\n",
       "      <th>0</th>\n",
       "      <td>610.107651</td>\n",
       "      <td>ham</td>\n",
       "      <td>508.196283</td>\n",
       "      <td>..</td>\n",
       "      <td>372.450023</td>\n",
       "      <td>.</td>\n",
       "      <td>647.670472</td>\n",
       "      <td>.</td>\n",
       "      <td>270.128120</td>\n",
       "      <td>.</td>\n",
       "      <td>...</td>\n",
       "      <td>165.272091</td>\n",
       "      <td>.</td>\n",
       "      <td>246.787050</td>\n",
       "      <td>to</td>\n",
       "      <td>364.451456</td>\n",
       "      <td>.</td>\n",
       "      <td>34.248644</td>\n",
       "      <td>..</td>\n",
       "      <td>50.121928</td>\n",
       "      <td>your</td>\n",
       "    </tr>\n",
       "    <tr>\n",
       "      <th>1</th>\n",
       "      <td>389.776845</td>\n",
       "      <td>.</td>\n",
       "      <td>185.504675</td>\n",
       "      <td>\"</td>\n",
       "      <td>157.524090</td>\n",
       "      <td>a</td>\n",
       "      <td>241.846057</td>\n",
       "      <td>to</td>\n",
       "      <td>158.061485</td>\n",
       "      <td>ur</td>\n",
       "      <td>...</td>\n",
       "      <td>88.127875</td>\n",
       "      <td>:)</td>\n",
       "      <td>201.710809</td>\n",
       "      <td>a</td>\n",
       "      <td>271.265944</td>\n",
       "      <td>u</td>\n",
       "      <td>23.833487</td>\n",
       "      <td>it</td>\n",
       "      <td>35.932947</td>\n",
       "      <td>.</td>\n",
       "    </tr>\n",
       "    <tr>\n",
       "      <th>2</th>\n",
       "      <td>190.765833</td>\n",
       "      <td>the</td>\n",
       "      <td>61.861028</td>\n",
       "      <td>:-)</td>\n",
       "      <td>139.981524</td>\n",
       "      <td>i</td>\n",
       "      <td>131.298173</td>\n",
       "      <td>,</td>\n",
       "      <td>115.687288</td>\n",
       "      <td>to</td>\n",
       "      <td>...</td>\n",
       "      <td>69.581604</td>\n",
       "      <td>is</td>\n",
       "      <td>195.288309</td>\n",
       "      <td>£</td>\n",
       "      <td>209.780566</td>\n",
       "      <td>!</td>\n",
       "      <td>23.644350</td>\n",
       "      <td>to</td>\n",
       "      <td>24.599634</td>\n",
       "      <td>is</td>\n",
       "    </tr>\n",
       "    <tr>\n",
       "      <th>3</th>\n",
       "      <td>173.925769</td>\n",
       "      <td>a</td>\n",
       "      <td>59.888326</td>\n",
       "      <td>,</td>\n",
       "      <td>132.696016</td>\n",
       "      <td>you</td>\n",
       "      <td>117.045561</td>\n",
       "      <td>your</td>\n",
       "      <td>113.745415</td>\n",
       "      <td>/</td>\n",
       "      <td>...</td>\n",
       "      <td>58.810046</td>\n",
       "      <td>happy</td>\n",
       "      <td>174.020841</td>\n",
       "      <td>.</td>\n",
       "      <td>156.026120</td>\n",
       "      <td>a</td>\n",
       "      <td>23.165898</td>\n",
       "      <td>)</td>\n",
       "      <td>23.077698</td>\n",
       "      <td>for</td>\n",
       "    </tr>\n",
       "    <tr>\n",
       "      <th>4</th>\n",
       "      <td>159.643921</td>\n",
       "      <td>is</td>\n",
       "      <td>55.485102</td>\n",
       "      <td>u</td>\n",
       "      <td>127.484937</td>\n",
       "      <td>!</td>\n",
       "      <td>109.860679</td>\n",
       "      <td>the</td>\n",
       "      <td>81.954029</td>\n",
       "      <td>:</td>\n",
       "      <td>...</td>\n",
       "      <td>57.048932</td>\n",
       "      <td>da</td>\n",
       "      <td>102.414775</td>\n",
       "      <td>free</td>\n",
       "      <td>132.477311</td>\n",
       "      <td>you</td>\n",
       "      <td>19.051923</td>\n",
       "      <td>of</td>\n",
       "      <td>18.973849</td>\n",
       "      <td>'</td>\n",
       "    </tr>\n",
       "    <tr>\n",
       "      <th>5</th>\n",
       "      <td>117.256129</td>\n",
       "      <td>to</td>\n",
       "      <td>50.305996</td>\n",
       "      <td>gud</td>\n",
       "      <td>117.334783</td>\n",
       "      <td>to</td>\n",
       "      <td>95.036926</td>\n",
       "      <td>on</td>\n",
       "      <td>78.532522</td>\n",
       "      <td>u</td>\n",
       "      <td>...</td>\n",
       "      <td>45.588488</td>\n",
       "      <td>..</td>\n",
       "      <td>101.540246</td>\n",
       "      <td>&amp;</td>\n",
       "      <td>113.555176</td>\n",
       "      <td>,</td>\n",
       "      <td>17.840613</td>\n",
       "      <td>$</td>\n",
       "      <td>18.165492</td>\n",
       "      <td>not</td>\n",
       "    </tr>\n",
       "    <tr>\n",
       "      <th>6</th>\n",
       "      <td>107.904463</td>\n",
       "      <td>spam</td>\n",
       "      <td>47.695043</td>\n",
       "      <td>k</td>\n",
       "      <td>87.741182</td>\n",
       "      <td>in</td>\n",
       "      <td>83.186471</td>\n",
       "      <td>a</td>\n",
       "      <td>76.695974</td>\n",
       "      <td>,</td>\n",
       "      <td>...</td>\n",
       "      <td>44.366254</td>\n",
       "      <td>in</td>\n",
       "      <td>97.918433</td>\n",
       "      <td>or</td>\n",
       "      <td>97.851062</td>\n",
       "      <td>to</td>\n",
       "      <td>16.957896</td>\n",
       "      <td>...</td>\n",
       "      <td>16.833176</td>\n",
       "      <td>as</td>\n",
       "    </tr>\n",
       "    <tr>\n",
       "      <th>7</th>\n",
       "      <td>88.560996</td>\n",
       "      <td>of</td>\n",
       "      <td>41.824031</td>\n",
       "      <td>:)</td>\n",
       "      <td>86.819730</td>\n",
       "      <td>?</td>\n",
       "      <td>77.284853</td>\n",
       "      <td>!</td>\n",
       "      <td>74.175438</td>\n",
       "      <td>!</td>\n",
       "      <td>...</td>\n",
       "      <td>34.003829</td>\n",
       "      <td>birthday</td>\n",
       "      <td>89.823160</td>\n",
       "      <td>+</td>\n",
       "      <td>92.466768</td>\n",
       "      <td>i</td>\n",
       "      <td>15.816250</td>\n",
       "      <td>the</td>\n",
       "      <td>15.987432</td>\n",
       "      <td>thanks</td>\n",
       "    </tr>\n",
       "    <tr>\n",
       "      <th>8</th>\n",
       "      <td>85.570433</td>\n",
       "      <td>it</td>\n",
       "      <td>40.405002</td>\n",
       "      <td>!</td>\n",
       "      <td>81.695140</td>\n",
       "      <td>is</td>\n",
       "      <td>72.603963</td>\n",
       "      <td>call</td>\n",
       "      <td>55.729751</td>\n",
       "      <td>no</td>\n",
       "      <td>...</td>\n",
       "      <td>33.198496</td>\n",
       "      <td>pls</td>\n",
       "      <td>89.294104</td>\n",
       "      <td>call</td>\n",
       "      <td>90.724740</td>\n",
       "      <td>me</td>\n",
       "      <td>14.468756</td>\n",
       "      <td>that</td>\n",
       "      <td>14.062500</td>\n",
       "      <td>simple</td>\n",
       "    </tr>\n",
       "    <tr>\n",
       "      <th>9</th>\n",
       "      <td>82.315710</td>\n",
       "      <td>he</td>\n",
       "      <td>37.393958</td>\n",
       "      <td>of</td>\n",
       "      <td>75.493247</td>\n",
       "      <td>get</td>\n",
       "      <td>61.007477</td>\n",
       "      <td>now</td>\n",
       "      <td>54.828169</td>\n",
       "      <td>for</td>\n",
       "      <td>...</td>\n",
       "      <td>28.178504</td>\n",
       "      <td>my</td>\n",
       "      <td>88.505317</td>\n",
       "      <td>!</td>\n",
       "      <td>90.142062</td>\n",
       "      <td>and</td>\n",
       "      <td>12.787564</td>\n",
       "      <td>or</td>\n",
       "      <td>13.830220</td>\n",
       "      <td>x</td>\n",
       "    </tr>\n",
       "  </tbody>\n",
       "</table>\n",
       "<p>10 rows × 30 columns</p>\n",
       "</div>"
      ],
      "text/plain": [
       "      topic_1 terms_topic_1     topic_2 terms_topic_2     topic_3  \\\n",
       "0  610.107651           ham  508.196283            ..  372.450023   \n",
       "1  389.776845             .  185.504675             \"  157.524090   \n",
       "2  190.765833           the   61.861028           :-)  139.981524   \n",
       "3  173.925769             a   59.888326             ,  132.696016   \n",
       "4  159.643921            is   55.485102             u  127.484937   \n",
       "5  117.256129            to   50.305996           gud  117.334783   \n",
       "6  107.904463          spam   47.695043             k   87.741182   \n",
       "7   88.560996            of   41.824031            :)   86.819730   \n",
       "8   85.570433            it   40.405002             !   81.695140   \n",
       "9   82.315710            he   37.393958            of   75.493247   \n",
       "\n",
       "  terms_topic_3     topic_4 terms_topic_4     topic_5 terms_topic_5  \\\n",
       "0             .  647.670472             .  270.128120             .   \n",
       "1             a  241.846057            to  158.061485            ur   \n",
       "2             i  131.298173             ,  115.687288            to   \n",
       "3           you  117.045561          your  113.745415             /   \n",
       "4             !  109.860679           the   81.954029             :   \n",
       "5            to   95.036926            on   78.532522             u   \n",
       "6            in   83.186471             a   76.695974             ,   \n",
       "7             ?   77.284853             !   74.175438             !   \n",
       "8            is   72.603963          call   55.729751            no   \n",
       "9           get   61.007477           now   54.828169           for   \n",
       "\n",
       "       ...          topic_11 terms_topic_11    topic_12 terms_topic_12  \\\n",
       "0      ...        165.272091              .  246.787050             to   \n",
       "1      ...         88.127875             :)  201.710809              a   \n",
       "2      ...         69.581604             is  195.288309              £   \n",
       "3      ...         58.810046          happy  174.020841              .   \n",
       "4      ...         57.048932             da  102.414775           free   \n",
       "5      ...         45.588488             ..  101.540246              &   \n",
       "6      ...         44.366254             in   97.918433             or   \n",
       "7      ...         34.003829       birthday   89.823160              +   \n",
       "8      ...         33.198496            pls   89.294104           call   \n",
       "9      ...         28.178504             my   88.505317              !   \n",
       "\n",
       "     topic_13 terms_topic_13   topic_14 terms_topic_14   topic_15  \\\n",
       "0  364.451456              .  34.248644             ..  50.121928   \n",
       "1  271.265944              u  23.833487             it  35.932947   \n",
       "2  209.780566              !  23.644350             to  24.599634   \n",
       "3  156.026120              a  23.165898              )  23.077698   \n",
       "4  132.477311            you  19.051923             of  18.973849   \n",
       "5  113.555176              ,  17.840613              $  18.165492   \n",
       "6   97.851062             to  16.957896            ...  16.833176   \n",
       "7   92.466768              i  15.816250            the  15.987432   \n",
       "8   90.724740             me  14.468756           that  14.062500   \n",
       "9   90.142062            and  12.787564             or  13.830220   \n",
       "\n",
       "  terms_topic_15  \n",
       "0           your  \n",
       "1              .  \n",
       "2             is  \n",
       "3            for  \n",
       "4              '  \n",
       "5            not  \n",
       "6             as  \n",
       "7         thanks  \n",
       "8         simple  \n",
       "9              x  \n",
       "\n",
       "[10 rows x 30 columns]"
      ]
     },
     "execution_count": 123,
     "metadata": {},
     "output_type": "execute_result"
    }
   ],
   "source": [
    "df = pd.DataFrame()\n",
    "for i in range(1, num_topics):\n",
    "    top_vals = components['topic_' + str(i)].sort_values(ascending=False)[:10]\n",
    "    df['topic_' + str(i)] = components['topic_' + str(i)].sort_values(ascending=False)[:10].values\n",
    "    df['terms_topic_' + str(i)] = top_vals.index\n",
    "    df = df.reset_index(drop=True)\n",
    "df"
   ]
  },
  {
   "cell_type": "markdown",
   "metadata": {},
   "source": [
    "From above we can come up with general topic names for each topic. It looks like for topic 11 it has to do with happiness and birthdays. Topic 12 has to do with money and free things. Emails that fall into that category probably have a good chance of being spam."
   ]
  },
  {
   "cell_type": "code",
   "execution_count": 126,
   "metadata": {},
   "outputs": [
    {
     "name": "stdout",
     "output_type": "stream",
     "text": [
      "Shape of topic_vectors: (4837, 16)\n"
     ]
    }
   ],
   "source": [
    "# Transform BOW into topic vectors using LDiA\n",
    "topic_vectors_ldia = ldia.transform(bow_docs)\n",
    "\n",
    "print('Shape of topic_vectors:', topic_vectors_ldia.shape)"
   ]
  },
  {
   "cell_type": "markdown",
   "metadata": {},
   "source": [
    "## Building & Evaluating a Classifier\n",
    "---\n",
    "Once again we will use an LDA classifier to classify our text as spam or not spam and test it on custom email samples."
   ]
  },
  {
   "cell_type": "code",
   "execution_count": 130,
   "metadata": {},
   "outputs": [
    {
     "name": "stdout",
     "output_type": "stream",
     "text": [
      "X_train shape: (3385, 16)\n",
      "X_test shape: (1452, 16)\n",
      "y_train shape: (3385,)\n",
      "y_test shape: (1452,)\n"
     ]
    }
   ],
   "source": [
    "# Split data\n",
    "X_train, X_test, y_train, y_test = train_test_split(topic_vectors_ldia, sms['spam'], test_size=0.3, random_state=21)\n",
    "\n",
    "print('X_train shape:', X_train.shape)\n",
    "print('X_test shape:', X_test.shape)\n",
    "print('y_train shape:', y_train.shape)\n",
    "print('y_test shape:', y_test.shape)"
   ]
  },
  {
   "cell_type": "code",
   "execution_count": 131,
   "metadata": {},
   "outputs": [
    {
     "name": "stderr",
     "output_type": "stream",
     "text": [
      "/Users/aaronmarquez/anaconda3/envs/nlp/lib/python3.6/site-packages/sklearn/discriminant_analysis.py:388: UserWarning: Variables are collinear.\n",
      "  warnings.warn(\"Variables are collinear.\")\n"
     ]
    },
    {
     "data": {
      "text/plain": [
       "LinearDiscriminantAnalysis(n_components=None, priors=None, shrinkage=None,\n",
       "              solver='svd', store_covariance=False, tol=0.0001)"
      ]
     },
     "execution_count": 131,
     "metadata": {},
     "output_type": "execute_result"
    }
   ],
   "source": [
    "# Create LDA model and fit to training data\n",
    "clf = LDA()\n",
    "clf.fit(X_train, y_train)"
   ]
  },
  {
   "cell_type": "markdown",
   "metadata": {},
   "source": [
    "One way to get rid of collinear warning is to reduce the number of topics."
   ]
  },
  {
   "cell_type": "code",
   "execution_count": 132,
   "metadata": {},
   "outputs": [
    {
     "name": "stdout",
     "output_type": "stream",
     "text": [
      "Test accuracy: 91.12%\n"
     ]
    }
   ],
   "source": [
    "score = clf.score(X_test, y_test)\n",
    "\n",
    "print(\"Test accuracy: {:.2f}%\".format(100. * score))"
   ]
  },
  {
   "cell_type": "markdown",
   "metadata": {},
   "source": [
    "## Test Custom Emails\n",
    "---\n",
    "We will test our dummy emails again and see how LDiA performs on them."
   ]
  },
  {
   "cell_type": "code",
   "execution_count": 133,
   "metadata": {},
   "outputs": [
    {
     "name": "stdout",
     "output_type": "stream",
     "text": [
      "   true  preds                                              email\n",
      "0     0      0  Hi John, this is Juan. Just wanted to let you ...\n",
      "1     1      0  Earn $1000 a day. Work from home and make mone...\n",
      "2     1      0  Earn £1000 a day. Work from home and make mone...\n",
      "3     0      0  I'm going to be late, please order dinner toni...\n",
      "4     1      1  Free money!! Join our network of professionls ...\n"
     ]
    }
   ],
   "source": [
    "emails = [\"Hi John, this is Juan. Just wanted to let you know our meeting was rescheduled for next week. Will let you know more later. - Juan\",\n",
    "         \"Earn $1000 a day. Work from home and make money with me. Reply to make money now!\",\n",
    "         \"Earn £1000 a day. Work from home and make money with me. Reply to make money now!\",\n",
    "         \"I'm going to be late, please order dinner tonight for everyone.\",\n",
    "         \"Free money!! Join our network of professionls and get rewarded!\"]\n",
    "true_labels = [0, 1, 1, 0, 1]\n",
    "\n",
    "emails_bow = counter.transform(emails).toarray()\n",
    "emails_topic = ldia.transform(emails_bow)\n",
    "preds = clf.predict(emails_topic)\n",
    "test_df = pd.DataFrame()\n",
    "test_df['true'] = true_labels\n",
    "test_df['preds'] = preds\n",
    "test_df['email'] = emails\n",
    "print(test_df)"
   ]
  },
  {
   "cell_type": "markdown",
   "metadata": {},
   "source": [
    "### What if we try with more topics for LDiA?"
   ]
  },
  {
   "cell_type": "code",
   "execution_count": 134,
   "metadata": {},
   "outputs": [
    {
     "name": "stdout",
     "output_type": "stream",
     "text": [
      "Test accuracy: 91.53%\n"
     ]
    },
    {
     "name": "stderr",
     "output_type": "stream",
     "text": [
      "/Users/aaronmarquez/anaconda3/envs/nlp/lib/python3.6/site-packages/sklearn/discriminant_analysis.py:388: UserWarning: Variables are collinear.\n",
      "  warnings.warn(\"Variables are collinear.\")\n"
     ]
    }
   ],
   "source": [
    "# Create topic vectors with 32 topics\n",
    "ldia = LDiA(n_components=32, learning_method='batch', random_state=21)\n",
    "ldia.fit(bow_docs)\n",
    "topic_vectors_ldia = ldia.transform(bow_docs)\n",
    "# Split data\n",
    "X_train, X_test, y_train, y_test = train_test_split(topic_vectors_ldia, sms['spam'], test_size=0.3, random_state=21)\n",
    "# Build & Predict\n",
    "clf = LDA()\n",
    "clf.fit(X_train, y_train)\n",
    "# Score\n",
    "score = clf.score(X_test, y_test)\n",
    "print(\"Test accuracy: {:.2f}%\".format(100. * score))"
   ]
  },
  {
   "cell_type": "markdown",
   "metadata": {},
   "source": [
    "## Conclusion\n",
    "---\n",
    "LSA ended up performing better than LDiA (96.07% vs. 91.12%). To perform LSA we used PCA from sci-kit learn but we could have also used TruncatedSVD or something from the gensim library. Reducing the dimensionality of TF-IDF vectors also help prevent overfitting. The TF-IDF vectors had over 9,000 terms, far more features than samples which surely would have led to overfitting.\n",
    "\n",
    "LDiA didn't perform well on our custom emails list, missing a few spam emails. But LDiA with more topics (32 topics) performed slightly better than with 16 topics. \n",
    "\n",
    "To overcome the bias that exists in the dataset (all emails come from a British forum) we can add more data from other sources including emails that target people in other countries.\n",
    "\n",
    "The cosine similarity is a good way to find similar emails in the dataset and group them together."
   ]
  }
 ],
 "metadata": {
  "kernelspec": {
   "display_name": "Python 3",
   "language": "python",
   "name": "python3"
  },
  "language_info": {
   "codemirror_mode": {
    "name": "ipython",
    "version": 3
   },
   "file_extension": ".py",
   "mimetype": "text/x-python",
   "name": "python",
   "nbconvert_exporter": "python",
   "pygments_lexer": "ipython3",
   "version": "3.6.4"
  }
 },
 "nbformat": 4,
 "nbformat_minor": 2
}
